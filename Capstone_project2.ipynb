{
  "nbformat": 4,
  "nbformat_minor": 0,
  "metadata": {
    "colab": {
      "name": "Capstone project2.ipynb",
      "provenance": [],
      "collapsed_sections": []
    },
    "kernelspec": {
      "name": "python3",
      "display_name": "Python 3"
    },
    "language_info": {
      "name": "python"
    }
  },
  "cells": [
    {
      "cell_type": "code",
      "metadata": {
        "id": "yuiNpfcgdXvD"
      },
      "source": [
        "# All necessary libraries \n",
        "import numpy as np\n",
        "import pandas as pd\n",
        "import matplotlib.pyplot as plt\n",
        "import seaborn as sns\n",
        "from sklearn.model_selection import train_test_split\n",
        "from sklearn.dummy import DummyClassifier\n",
        "from sklearn.ensemble import RandomForestClassifier\n",
        "from sklearn.model_selection import cross_val_score\n",
        "from sklearn.svm import SVC\n",
        "from sklearn.neighbors import KNeighborsClassifier\n",
        "from sklearn.metrics import confusion_matrix,plot_confusion_matrix\n",
        "from sklearn.ensemble import GradientBoostingClassifier"
      ],
      "execution_count": 58,
      "outputs": []
    },
    {
      "cell_type": "code",
      "metadata": {
        "id": "-54D018Dj7j5",
        "colab": {
          "base_uri": "https://localhost:8080/"
        },
        "outputId": "edf153d3-242d-4106-b426-d550bea5e8d5"
      },
      "source": [
        "rawdata=pd.read_csv('drive/MyDrive/capstone-project2/BankChurners.csv')\n",
        "rawdata.shape"
      ],
      "execution_count": 5,
      "outputs": [
        {
          "output_type": "execute_result",
          "data": {
            "text/plain": [
              "(10127, 23)"
            ]
          },
          "metadata": {},
          "execution_count": 5
        }
      ]
    },
    {
      "cell_type": "markdown",
      "metadata": {
        "id": "F8GU0HJMgz2e"
      },
      "source": [
        "### Data Exploration"
      ]
    },
    {
      "cell_type": "code",
      "metadata": {
        "colab": {
          "base_uri": "https://localhost:8080/",
          "height": 221
        },
        "id": "XNb5FNZzka5j",
        "outputId": "6b72899e-9419-4864-95e0-093a9ad4d501"
      },
      "source": [
        "rawdata.head()"
      ],
      "execution_count": 6,
      "outputs": [
        {
          "output_type": "execute_result",
          "data": {
            "text/html": [
              "<div>\n",
              "<style scoped>\n",
              "    .dataframe tbody tr th:only-of-type {\n",
              "        vertical-align: middle;\n",
              "    }\n",
              "\n",
              "    .dataframe tbody tr th {\n",
              "        vertical-align: top;\n",
              "    }\n",
              "\n",
              "    .dataframe thead th {\n",
              "        text-align: right;\n",
              "    }\n",
              "</style>\n",
              "<table border=\"1\" class=\"dataframe\">\n",
              "  <thead>\n",
              "    <tr style=\"text-align: right;\">\n",
              "      <th></th>\n",
              "      <th>CLIENTNUM</th>\n",
              "      <th>Attrition_Flag</th>\n",
              "      <th>Customer_Age</th>\n",
              "      <th>Gender</th>\n",
              "      <th>Dependent_count</th>\n",
              "      <th>Education_Level</th>\n",
              "      <th>Marital_Status</th>\n",
              "      <th>Income_Category</th>\n",
              "      <th>Card_Category</th>\n",
              "      <th>Months_on_book</th>\n",
              "      <th>Total_Relationship_Count</th>\n",
              "      <th>Months_Inactive_12_mon</th>\n",
              "      <th>Contacts_Count_12_mon</th>\n",
              "      <th>Credit_Limit</th>\n",
              "      <th>Total_Revolving_Bal</th>\n",
              "      <th>Avg_Open_To_Buy</th>\n",
              "      <th>Total_Amt_Chng_Q4_Q1</th>\n",
              "      <th>Total_Trans_Amt</th>\n",
              "      <th>Total_Trans_Ct</th>\n",
              "      <th>Total_Ct_Chng_Q4_Q1</th>\n",
              "      <th>Avg_Utilization_Ratio</th>\n",
              "      <th>Naive_Bayes_Classifier_Attrition_Flag_Card_Category_Contacts_Count_12_mon_Dependent_count_Education_Level_Months_Inactive_12_mon_1</th>\n",
              "      <th>Naive_Bayes_Classifier_Attrition_Flag_Card_Category_Contacts_Count_12_mon_Dependent_count_Education_Level_Months_Inactive_12_mon_2</th>\n",
              "    </tr>\n",
              "  </thead>\n",
              "  <tbody>\n",
              "    <tr>\n",
              "      <th>0</th>\n",
              "      <td>768805383</td>\n",
              "      <td>Existing Customer</td>\n",
              "      <td>45</td>\n",
              "      <td>M</td>\n",
              "      <td>3</td>\n",
              "      <td>High School</td>\n",
              "      <td>Married</td>\n",
              "      <td>$60K - $80K</td>\n",
              "      <td>Blue</td>\n",
              "      <td>39</td>\n",
              "      <td>5</td>\n",
              "      <td>1</td>\n",
              "      <td>3</td>\n",
              "      <td>12691.0</td>\n",
              "      <td>777</td>\n",
              "      <td>11914.0</td>\n",
              "      <td>1.335</td>\n",
              "      <td>1144</td>\n",
              "      <td>42</td>\n",
              "      <td>1.625</td>\n",
              "      <td>0.061</td>\n",
              "      <td>0.000093</td>\n",
              "      <td>0.99991</td>\n",
              "    </tr>\n",
              "    <tr>\n",
              "      <th>1</th>\n",
              "      <td>818770008</td>\n",
              "      <td>Existing Customer</td>\n",
              "      <td>49</td>\n",
              "      <td>F</td>\n",
              "      <td>5</td>\n",
              "      <td>Graduate</td>\n",
              "      <td>Single</td>\n",
              "      <td>Less than $40K</td>\n",
              "      <td>Blue</td>\n",
              "      <td>44</td>\n",
              "      <td>6</td>\n",
              "      <td>1</td>\n",
              "      <td>2</td>\n",
              "      <td>8256.0</td>\n",
              "      <td>864</td>\n",
              "      <td>7392.0</td>\n",
              "      <td>1.541</td>\n",
              "      <td>1291</td>\n",
              "      <td>33</td>\n",
              "      <td>3.714</td>\n",
              "      <td>0.105</td>\n",
              "      <td>0.000057</td>\n",
              "      <td>0.99994</td>\n",
              "    </tr>\n",
              "    <tr>\n",
              "      <th>2</th>\n",
              "      <td>713982108</td>\n",
              "      <td>Existing Customer</td>\n",
              "      <td>51</td>\n",
              "      <td>M</td>\n",
              "      <td>3</td>\n",
              "      <td>Graduate</td>\n",
              "      <td>Married</td>\n",
              "      <td>$80K - $120K</td>\n",
              "      <td>Blue</td>\n",
              "      <td>36</td>\n",
              "      <td>4</td>\n",
              "      <td>1</td>\n",
              "      <td>0</td>\n",
              "      <td>3418.0</td>\n",
              "      <td>0</td>\n",
              "      <td>3418.0</td>\n",
              "      <td>2.594</td>\n",
              "      <td>1887</td>\n",
              "      <td>20</td>\n",
              "      <td>2.333</td>\n",
              "      <td>0.000</td>\n",
              "      <td>0.000021</td>\n",
              "      <td>0.99998</td>\n",
              "    </tr>\n",
              "    <tr>\n",
              "      <th>3</th>\n",
              "      <td>769911858</td>\n",
              "      <td>Existing Customer</td>\n",
              "      <td>40</td>\n",
              "      <td>F</td>\n",
              "      <td>4</td>\n",
              "      <td>High School</td>\n",
              "      <td>Unknown</td>\n",
              "      <td>Less than $40K</td>\n",
              "      <td>Blue</td>\n",
              "      <td>34</td>\n",
              "      <td>3</td>\n",
              "      <td>4</td>\n",
              "      <td>1</td>\n",
              "      <td>3313.0</td>\n",
              "      <td>2517</td>\n",
              "      <td>796.0</td>\n",
              "      <td>1.405</td>\n",
              "      <td>1171</td>\n",
              "      <td>20</td>\n",
              "      <td>2.333</td>\n",
              "      <td>0.760</td>\n",
              "      <td>0.000134</td>\n",
              "      <td>0.99987</td>\n",
              "    </tr>\n",
              "    <tr>\n",
              "      <th>4</th>\n",
              "      <td>709106358</td>\n",
              "      <td>Existing Customer</td>\n",
              "      <td>40</td>\n",
              "      <td>M</td>\n",
              "      <td>3</td>\n",
              "      <td>Uneducated</td>\n",
              "      <td>Married</td>\n",
              "      <td>$60K - $80K</td>\n",
              "      <td>Blue</td>\n",
              "      <td>21</td>\n",
              "      <td>5</td>\n",
              "      <td>1</td>\n",
              "      <td>0</td>\n",
              "      <td>4716.0</td>\n",
              "      <td>0</td>\n",
              "      <td>4716.0</td>\n",
              "      <td>2.175</td>\n",
              "      <td>816</td>\n",
              "      <td>28</td>\n",
              "      <td>2.500</td>\n",
              "      <td>0.000</td>\n",
              "      <td>0.000022</td>\n",
              "      <td>0.99998</td>\n",
              "    </tr>\n",
              "  </tbody>\n",
              "</table>\n",
              "</div>"
            ],
            "text/plain": [
              "   CLIENTNUM  ... Naive_Bayes_Classifier_Attrition_Flag_Card_Category_Contacts_Count_12_mon_Dependent_count_Education_Level_Months_Inactive_12_mon_2\n",
              "0  768805383  ...                                            0.99991                                                                                \n",
              "1  818770008  ...                                            0.99994                                                                                \n",
              "2  713982108  ...                                            0.99998                                                                                \n",
              "3  769911858  ...                                            0.99987                                                                                \n",
              "4  709106358  ...                                            0.99998                                                                                \n",
              "\n",
              "[5 rows x 23 columns]"
            ]
          },
          "metadata": {},
          "execution_count": 6
        }
      ]
    },
    {
      "cell_type": "code",
      "metadata": {
        "id": "YupWXmYukc0q"
      },
      "source": [
        "data=rawdata.iloc[:,1:-2]"
      ],
      "execution_count": 7,
      "outputs": []
    },
    {
      "cell_type": "code",
      "metadata": {
        "colab": {
          "base_uri": "https://localhost:8080/",
          "height": 221
        },
        "id": "DJVujcWulmeF",
        "outputId": "06c3492c-970b-4960-b657-2cc38bcc90ca"
      },
      "source": [
        "data.head()"
      ],
      "execution_count": 8,
      "outputs": [
        {
          "output_type": "execute_result",
          "data": {
            "text/html": [
              "<div>\n",
              "<style scoped>\n",
              "    .dataframe tbody tr th:only-of-type {\n",
              "        vertical-align: middle;\n",
              "    }\n",
              "\n",
              "    .dataframe tbody tr th {\n",
              "        vertical-align: top;\n",
              "    }\n",
              "\n",
              "    .dataframe thead th {\n",
              "        text-align: right;\n",
              "    }\n",
              "</style>\n",
              "<table border=\"1\" class=\"dataframe\">\n",
              "  <thead>\n",
              "    <tr style=\"text-align: right;\">\n",
              "      <th></th>\n",
              "      <th>Attrition_Flag</th>\n",
              "      <th>Customer_Age</th>\n",
              "      <th>Gender</th>\n",
              "      <th>Dependent_count</th>\n",
              "      <th>Education_Level</th>\n",
              "      <th>Marital_Status</th>\n",
              "      <th>Income_Category</th>\n",
              "      <th>Card_Category</th>\n",
              "      <th>Months_on_book</th>\n",
              "      <th>Total_Relationship_Count</th>\n",
              "      <th>Months_Inactive_12_mon</th>\n",
              "      <th>Contacts_Count_12_mon</th>\n",
              "      <th>Credit_Limit</th>\n",
              "      <th>Total_Revolving_Bal</th>\n",
              "      <th>Avg_Open_To_Buy</th>\n",
              "      <th>Total_Amt_Chng_Q4_Q1</th>\n",
              "      <th>Total_Trans_Amt</th>\n",
              "      <th>Total_Trans_Ct</th>\n",
              "      <th>Total_Ct_Chng_Q4_Q1</th>\n",
              "      <th>Avg_Utilization_Ratio</th>\n",
              "    </tr>\n",
              "  </thead>\n",
              "  <tbody>\n",
              "    <tr>\n",
              "      <th>0</th>\n",
              "      <td>Existing Customer</td>\n",
              "      <td>45</td>\n",
              "      <td>M</td>\n",
              "      <td>3</td>\n",
              "      <td>High School</td>\n",
              "      <td>Married</td>\n",
              "      <td>$60K - $80K</td>\n",
              "      <td>Blue</td>\n",
              "      <td>39</td>\n",
              "      <td>5</td>\n",
              "      <td>1</td>\n",
              "      <td>3</td>\n",
              "      <td>12691.0</td>\n",
              "      <td>777</td>\n",
              "      <td>11914.0</td>\n",
              "      <td>1.335</td>\n",
              "      <td>1144</td>\n",
              "      <td>42</td>\n",
              "      <td>1.625</td>\n",
              "      <td>0.061</td>\n",
              "    </tr>\n",
              "    <tr>\n",
              "      <th>1</th>\n",
              "      <td>Existing Customer</td>\n",
              "      <td>49</td>\n",
              "      <td>F</td>\n",
              "      <td>5</td>\n",
              "      <td>Graduate</td>\n",
              "      <td>Single</td>\n",
              "      <td>Less than $40K</td>\n",
              "      <td>Blue</td>\n",
              "      <td>44</td>\n",
              "      <td>6</td>\n",
              "      <td>1</td>\n",
              "      <td>2</td>\n",
              "      <td>8256.0</td>\n",
              "      <td>864</td>\n",
              "      <td>7392.0</td>\n",
              "      <td>1.541</td>\n",
              "      <td>1291</td>\n",
              "      <td>33</td>\n",
              "      <td>3.714</td>\n",
              "      <td>0.105</td>\n",
              "    </tr>\n",
              "    <tr>\n",
              "      <th>2</th>\n",
              "      <td>Existing Customer</td>\n",
              "      <td>51</td>\n",
              "      <td>M</td>\n",
              "      <td>3</td>\n",
              "      <td>Graduate</td>\n",
              "      <td>Married</td>\n",
              "      <td>$80K - $120K</td>\n",
              "      <td>Blue</td>\n",
              "      <td>36</td>\n",
              "      <td>4</td>\n",
              "      <td>1</td>\n",
              "      <td>0</td>\n",
              "      <td>3418.0</td>\n",
              "      <td>0</td>\n",
              "      <td>3418.0</td>\n",
              "      <td>2.594</td>\n",
              "      <td>1887</td>\n",
              "      <td>20</td>\n",
              "      <td>2.333</td>\n",
              "      <td>0.000</td>\n",
              "    </tr>\n",
              "    <tr>\n",
              "      <th>3</th>\n",
              "      <td>Existing Customer</td>\n",
              "      <td>40</td>\n",
              "      <td>F</td>\n",
              "      <td>4</td>\n",
              "      <td>High School</td>\n",
              "      <td>Unknown</td>\n",
              "      <td>Less than $40K</td>\n",
              "      <td>Blue</td>\n",
              "      <td>34</td>\n",
              "      <td>3</td>\n",
              "      <td>4</td>\n",
              "      <td>1</td>\n",
              "      <td>3313.0</td>\n",
              "      <td>2517</td>\n",
              "      <td>796.0</td>\n",
              "      <td>1.405</td>\n",
              "      <td>1171</td>\n",
              "      <td>20</td>\n",
              "      <td>2.333</td>\n",
              "      <td>0.760</td>\n",
              "    </tr>\n",
              "    <tr>\n",
              "      <th>4</th>\n",
              "      <td>Existing Customer</td>\n",
              "      <td>40</td>\n",
              "      <td>M</td>\n",
              "      <td>3</td>\n",
              "      <td>Uneducated</td>\n",
              "      <td>Married</td>\n",
              "      <td>$60K - $80K</td>\n",
              "      <td>Blue</td>\n",
              "      <td>21</td>\n",
              "      <td>5</td>\n",
              "      <td>1</td>\n",
              "      <td>0</td>\n",
              "      <td>4716.0</td>\n",
              "      <td>0</td>\n",
              "      <td>4716.0</td>\n",
              "      <td>2.175</td>\n",
              "      <td>816</td>\n",
              "      <td>28</td>\n",
              "      <td>2.500</td>\n",
              "      <td>0.000</td>\n",
              "    </tr>\n",
              "  </tbody>\n",
              "</table>\n",
              "</div>"
            ],
            "text/plain": [
              "      Attrition_Flag  Customer_Age  ... Total_Ct_Chng_Q4_Q1  Avg_Utilization_Ratio\n",
              "0  Existing Customer            45  ...               1.625                  0.061\n",
              "1  Existing Customer            49  ...               3.714                  0.105\n",
              "2  Existing Customer            51  ...               2.333                  0.000\n",
              "3  Existing Customer            40  ...               2.333                  0.760\n",
              "4  Existing Customer            40  ...               2.500                  0.000\n",
              "\n",
              "[5 rows x 20 columns]"
            ]
          },
          "metadata": {},
          "execution_count": 8
        }
      ]
    },
    {
      "cell_type": "code",
      "metadata": {
        "colab": {
          "base_uri": "https://localhost:8080/"
        },
        "id": "QOWr9ufskE49",
        "outputId": "45669efd-2663-40f6-a05b-d3ade6fe3d45"
      },
      "source": [
        "data.info()"
      ],
      "execution_count": 9,
      "outputs": [
        {
          "output_type": "stream",
          "name": "stdout",
          "text": [
            "<class 'pandas.core.frame.DataFrame'>\n",
            "RangeIndex: 10127 entries, 0 to 10126\n",
            "Data columns (total 20 columns):\n",
            " #   Column                    Non-Null Count  Dtype  \n",
            "---  ------                    --------------  -----  \n",
            " 0   Attrition_Flag            10127 non-null  object \n",
            " 1   Customer_Age              10127 non-null  int64  \n",
            " 2   Gender                    10127 non-null  object \n",
            " 3   Dependent_count           10127 non-null  int64  \n",
            " 4   Education_Level           10127 non-null  object \n",
            " 5   Marital_Status            10127 non-null  object \n",
            " 6   Income_Category           10127 non-null  object \n",
            " 7   Card_Category             10127 non-null  object \n",
            " 8   Months_on_book            10127 non-null  int64  \n",
            " 9   Total_Relationship_Count  10127 non-null  int64  \n",
            " 10  Months_Inactive_12_mon    10127 non-null  int64  \n",
            " 11  Contacts_Count_12_mon     10127 non-null  int64  \n",
            " 12  Credit_Limit              10127 non-null  float64\n",
            " 13  Total_Revolving_Bal       10127 non-null  int64  \n",
            " 14  Avg_Open_To_Buy           10127 non-null  float64\n",
            " 15  Total_Amt_Chng_Q4_Q1      10127 non-null  float64\n",
            " 16  Total_Trans_Amt           10127 non-null  int64  \n",
            " 17  Total_Trans_Ct            10127 non-null  int64  \n",
            " 18  Total_Ct_Chng_Q4_Q1       10127 non-null  float64\n",
            " 19  Avg_Utilization_Ratio     10127 non-null  float64\n",
            "dtypes: float64(5), int64(9), object(6)\n",
            "memory usage: 1.5+ MB\n"
          ]
        }
      ]
    },
    {
      "cell_type": "code",
      "metadata": {
        "id": "moE5aLKpkGNJ"
      },
      "source": [
        ""
      ],
      "execution_count": 9,
      "outputs": []
    },
    {
      "cell_type": "code",
      "metadata": {
        "colab": {
          "base_uri": "https://localhost:8080/"
        },
        "id": "I1xP-Hq0lpTM",
        "outputId": "10e65274-0b4d-45d8-a30b-07650bb57ab4"
      },
      "source": [
        "data.Attrition_Flag.value_counts()"
      ],
      "execution_count": 10,
      "outputs": [
        {
          "output_type": "execute_result",
          "data": {
            "text/plain": [
              "Existing Customer    8500\n",
              "Attrited Customer    1627\n",
              "Name: Attrition_Flag, dtype: int64"
            ]
          },
          "metadata": {},
          "execution_count": 10
        }
      ]
    },
    {
      "cell_type": "code",
      "metadata": {
        "id": "vwZdnYQNyIHS"
      },
      "source": [
        "data.Attrition_Flag.replace({'Existing Customer':0,'Attrited Customer':1},inplace=True)"
      ],
      "execution_count": 11,
      "outputs": []
    },
    {
      "cell_type": "code",
      "metadata": {
        "colab": {
          "base_uri": "https://localhost:8080/"
        },
        "id": "xdv5FcFymHIC",
        "outputId": "4c5bd2a7-941b-418d-ede4-b5b29c242f83"
      },
      "source": [
        "data['Gender'].value_counts()"
      ],
      "execution_count": 12,
      "outputs": [
        {
          "output_type": "execute_result",
          "data": {
            "text/plain": [
              "F    5358\n",
              "M    4769\n",
              "Name: Gender, dtype: int64"
            ]
          },
          "metadata": {},
          "execution_count": 12
        }
      ]
    },
    {
      "cell_type": "code",
      "metadata": {
        "colab": {
          "base_uri": "https://localhost:8080/"
        },
        "id": "C0BJVtBnmOXH",
        "outputId": "28afc29e-aeee-480b-f1bc-89e9c9908711"
      },
      "source": [
        "# Number of dependents\n",
        "data.Dependent_count.value_counts()"
      ],
      "execution_count": 13,
      "outputs": [
        {
          "output_type": "execute_result",
          "data": {
            "text/plain": [
              "3    2732\n",
              "2    2655\n",
              "1    1838\n",
              "4    1574\n",
              "0     904\n",
              "5     424\n",
              "Name: Dependent_count, dtype: int64"
            ]
          },
          "metadata": {},
          "execution_count": 13
        }
      ]
    },
    {
      "cell_type": "code",
      "metadata": {
        "colab": {
          "base_uri": "https://localhost:8080/"
        },
        "id": "s5WkxOC2mzuO",
        "outputId": "aade32f1-b55c-4628-f720-ef748f955028"
      },
      "source": [
        "data.Education_Level.value_counts()"
      ],
      "execution_count": 14,
      "outputs": [
        {
          "output_type": "execute_result",
          "data": {
            "text/plain": [
              "Graduate         3128\n",
              "High School      2013\n",
              "Unknown          1519\n",
              "Uneducated       1487\n",
              "College          1013\n",
              "Post-Graduate     516\n",
              "Doctorate         451\n",
              "Name: Education_Level, dtype: int64"
            ]
          },
          "metadata": {},
          "execution_count": 14
        }
      ]
    },
    {
      "cell_type": "code",
      "metadata": {
        "colab": {
          "base_uri": "https://localhost:8080/"
        },
        "id": "v3fZmKkRm_Xc",
        "outputId": "f938b038-ad54-448f-8772-d6ecf8a7827e"
      },
      "source": [
        "data.Marital_Status.value_counts()"
      ],
      "execution_count": 15,
      "outputs": [
        {
          "output_type": "execute_result",
          "data": {
            "text/plain": [
              "Married     4687\n",
              "Single      3943\n",
              "Unknown      749\n",
              "Divorced     748\n",
              "Name: Marital_Status, dtype: int64"
            ]
          },
          "metadata": {},
          "execution_count": 15
        }
      ]
    },
    {
      "cell_type": "code",
      "metadata": {
        "colab": {
          "base_uri": "https://localhost:8080/"
        },
        "id": "ZCmAjq4RnNN0",
        "outputId": "79306dd3-60f5-4bf6-a581-40e4f1fa3d69"
      },
      "source": [
        "# Annual Income Category of the account holder \n",
        "data.Income_Category.value_counts()"
      ],
      "execution_count": 16,
      "outputs": [
        {
          "output_type": "execute_result",
          "data": {
            "text/plain": [
              "Less than $40K    3561\n",
              "$40K - $60K       1790\n",
              "$80K - $120K      1535\n",
              "$60K - $80K       1402\n",
              "Unknown           1112\n",
              "$120K +            727\n",
              "Name: Income_Category, dtype: int64"
            ]
          },
          "metadata": {},
          "execution_count": 16
        }
      ]
    },
    {
      "cell_type": "code",
      "metadata": {
        "colab": {
          "base_uri": "https://localhost:8080/"
        },
        "id": "7rnZ9u2xncsN",
        "outputId": "6e72e3a2-a52d-4f67-bccc-54e3f17b67aa"
      },
      "source": [
        "data.Card_Category.value_counts()"
      ],
      "execution_count": 17,
      "outputs": [
        {
          "output_type": "execute_result",
          "data": {
            "text/plain": [
              "Blue        9436\n",
              "Silver       555\n",
              "Gold         116\n",
              "Platinum      20\n",
              "Name: Card_Category, dtype: int64"
            ]
          },
          "metadata": {},
          "execution_count": 17
        }
      ]
    },
    {
      "cell_type": "code",
      "metadata": {
        "colab": {
          "base_uri": "https://localhost:8080/"
        },
        "id": "UKCYvDPenqI-",
        "outputId": "87a5a233-9652-40b8-881f-358e846c6824"
      },
      "source": [
        "# Total no. of products held by the customer\n",
        "data.Total_Relationship_Count.value_counts()"
      ],
      "execution_count": 18,
      "outputs": [
        {
          "output_type": "execute_result",
          "data": {
            "text/plain": [
              "3    2305\n",
              "4    1912\n",
              "5    1891\n",
              "6    1866\n",
              "2    1243\n",
              "1     910\n",
              "Name: Total_Relationship_Count, dtype: int64"
            ]
          },
          "metadata": {},
          "execution_count": 18
        }
      ]
    },
    {
      "cell_type": "code",
      "metadata": {
        "colab": {
          "base_uri": "https://localhost:8080/"
        },
        "id": "bfPzBmUGo1Up",
        "outputId": "9f26d628-b3c1-4a0d-fbf6-606776d0dbe7"
      },
      "source": [
        "# No. of months inactive in the last 12 months\n",
        "data.Months_Inactive_12_mon.value_counts()"
      ],
      "execution_count": 19,
      "outputs": [
        {
          "output_type": "execute_result",
          "data": {
            "text/plain": [
              "3    3846\n",
              "2    3282\n",
              "1    2233\n",
              "4     435\n",
              "5     178\n",
              "6     124\n",
              "0      29\n",
              "Name: Months_Inactive_12_mon, dtype: int64"
            ]
          },
          "metadata": {},
          "execution_count": 19
        }
      ]
    },
    {
      "cell_type": "code",
      "metadata": {
        "colab": {
          "base_uri": "https://localhost:8080/"
        },
        "id": "D8oxFmXto9dZ",
        "outputId": "d3cbb714-20c2-4e33-e998-00f77f6b256e"
      },
      "source": [
        "# No. of Contacts in the last 12 months\n",
        "data.Contacts_Count_12_mon.value_counts()"
      ],
      "execution_count": 20,
      "outputs": [
        {
          "output_type": "execute_result",
          "data": {
            "text/plain": [
              "3    3380\n",
              "2    3227\n",
              "1    1499\n",
              "4    1392\n",
              "0     399\n",
              "5     176\n",
              "6      54\n",
              "Name: Contacts_Count_12_mon, dtype: int64"
            ]
          },
          "metadata": {},
          "execution_count": 20
        }
      ]
    },
    {
      "cell_type": "code",
      "metadata": {
        "id": "JD_Ddo-Pj1Nq"
      },
      "source": [
        "\n",
        "NumericColumns=(data.select_dtypes(['int64','float64'])).columns\n",
        "CategoricalColumns=(data.select_dtypes('object')).columns"
      ],
      "execution_count": 21,
      "outputs": []
    },
    {
      "cell_type": "code",
      "metadata": {
        "colab": {
          "base_uri": "https://localhost:8080/"
        },
        "id": "Gg4jzKiwwB0c",
        "outputId": "ea52c001-97ac-40e4-a05b-2da1939635ee"
      },
      "source": [
        "NumericColumns"
      ],
      "execution_count": 22,
      "outputs": [
        {
          "output_type": "execute_result",
          "data": {
            "text/plain": [
              "Index(['Attrition_Flag', 'Customer_Age', 'Dependent_count', 'Months_on_book',\n",
              "       'Total_Relationship_Count', 'Months_Inactive_12_mon',\n",
              "       'Contacts_Count_12_mon', 'Credit_Limit', 'Total_Revolving_Bal',\n",
              "       'Avg_Open_To_Buy', 'Total_Amt_Chng_Q4_Q1', 'Total_Trans_Amt',\n",
              "       'Total_Trans_Ct', 'Total_Ct_Chng_Q4_Q1', 'Avg_Utilization_Ratio'],\n",
              "      dtype='object')"
            ]
          },
          "metadata": {},
          "execution_count": 22
        }
      ]
    },
    {
      "cell_type": "code",
      "metadata": {
        "colab": {
          "base_uri": "https://localhost:8080/"
        },
        "id": "nKM-snrHgevt",
        "outputId": "be1fe701-2239-48e6-ad48-e99660181c8d"
      },
      "source": [
        "CategoricalColumns"
      ],
      "execution_count": 23,
      "outputs": [
        {
          "output_type": "execute_result",
          "data": {
            "text/plain": [
              "Index(['Gender', 'Education_Level', 'Marital_Status', 'Income_Category',\n",
              "       'Card_Category'],\n",
              "      dtype='object')"
            ]
          },
          "metadata": {},
          "execution_count": 23
        }
      ]
    },
    {
      "cell_type": "code",
      "metadata": {
        "id": "1Uu-tUJNggJ5"
      },
      "source": [
        ""
      ],
      "execution_count": 23,
      "outputs": []
    },
    {
      "cell_type": "code",
      "metadata": {
        "colab": {
          "base_uri": "https://localhost:8080/",
          "height": 686
        },
        "id": "hH6JbSNcjB0h",
        "outputId": "5a2ad30e-a235-41ec-96d7-83e343fb3ee9"
      },
      "source": [
        "from numpy.lib.function_base import rot90\n",
        "\n",
        "fig,ax=plt.subplots( 2,3,figsize=(28,8) )\n",
        "\n",
        "sns.barplot(data.Gender.unique(),data.Gender.value_counts(),ax=ax[0,0])\n",
        "sns.barplot(data.Education_Level.unique(),data.Education_Level.value_counts(),ax=ax[0,1]) \n",
        "sns.barplot(data.Marital_Status.unique(),data.Marital_Status.value_counts(),ax=ax[0,2])\n",
        "sns.barplot(data.Income_Category.unique(),data.Income_Category.value_counts(),ax=ax[1,0])\n",
        "sns.barplot(data.Card_Category.unique(),data.Card_Category.value_counts(),ax=ax[1,1])\n",
        "\n",
        "ax[0,0].set_title('Customer Gender')\n",
        "ax[0,1].set_title('Education_Level')\n",
        "ax[0,2].set_title('Marital Status')\n",
        "ax[1,0].set_title('Income Category')\n",
        "ax[1,1].set_title('Card Category')\n",
        "plt.show()"
      ],
      "execution_count": 24,
      "outputs": [
        {
          "output_type": "stream",
          "name": "stderr",
          "text": [
            "/usr/local/lib/python3.7/dist-packages/seaborn/_decorators.py:43: FutureWarning: Pass the following variables as keyword args: x, y. From version 0.12, the only valid positional argument will be `data`, and passing other arguments without an explicit keyword will result in an error or misinterpretation.\n",
            "  FutureWarning\n",
            "/usr/local/lib/python3.7/dist-packages/seaborn/_decorators.py:43: FutureWarning: Pass the following variables as keyword args: x, y. From version 0.12, the only valid positional argument will be `data`, and passing other arguments without an explicit keyword will result in an error or misinterpretation.\n",
            "  FutureWarning\n",
            "/usr/local/lib/python3.7/dist-packages/seaborn/_decorators.py:43: FutureWarning: Pass the following variables as keyword args: x, y. From version 0.12, the only valid positional argument will be `data`, and passing other arguments without an explicit keyword will result in an error or misinterpretation.\n",
            "  FutureWarning\n",
            "/usr/local/lib/python3.7/dist-packages/seaborn/_decorators.py:43: FutureWarning: Pass the following variables as keyword args: x, y. From version 0.12, the only valid positional argument will be `data`, and passing other arguments without an explicit keyword will result in an error or misinterpretation.\n",
            "  FutureWarning\n",
            "/usr/local/lib/python3.7/dist-packages/seaborn/_decorators.py:43: FutureWarning: Pass the following variables as keyword args: x, y. From version 0.12, the only valid positional argument will be `data`, and passing other arguments without an explicit keyword will result in an error or misinterpretation.\n",
            "  FutureWarning\n"
          ]
        },
        {
          "output_type": "display_data",
          "data": {
            "image/png": "[encoded data removed]",
            "text/plain": [
              "<Figure size 2016x576 with 6 Axes>"
            ]
          },
          "metadata": {
            "needs_background": "light"
          }
        }
      ]
    },
    {
      "cell_type": "code",
      "metadata": {
        "colab": {
          "base_uri": "https://localhost:8080/",
          "height": 644
        },
        "id": "FGO-Zr-Wx8ii",
        "outputId": "c250f320-5167-4264-f88d-684455f1761c"
      },
      "source": [
        "fig,ax=plt.subplots( 2,5,figsize=(30,10) )\n",
        "data.Customer_Age.hist(ax=ax[0,0])\n",
        "data.Months_on_book.hist(ax=ax[0,1]) \n",
        "data.Credit_Limit.hist(ax=ax[0,2])\n",
        "data.Total_Revolving_Bal.hist(ax=ax[0,3])\n",
        "data.Avg_Open_To_Buy.hist(ax=ax[0,4])\n",
        "data.Total_Amt_Chng_Q4_Q1.hist(ax=ax[1,0])\n",
        "data.Total_Trans_Amt.hist(ax=ax[1,1])\n",
        "data.Total_Trans_Ct.hist(ax=ax[1,2])\n",
        "data.Total_Ct_Chng_Q4_Q1.hist(ax=ax[1,3])\n",
        "data.Avg_Utilization_Ratio.hist(ax=ax[1,4])\n",
        "ax[0,0].set_title('Customer Age')\n",
        "ax[0,1].set_title('Period of relationship with bank')\n",
        "ax[0,2].set_title('Credit Limit on the Credit Card')\n",
        "ax[0,3].set_title('Total Revolving Balance on the Credit Card')\n",
        "ax[0,4].set_title('Open to Buy Credit Line (Average of last 12 months)')\n",
        "ax[1,0].set_title('Change in Transaction Amount (Q4 over Q1)')\n",
        "ax[1,1].set_title('Total Transaction Amount (Last 12 months)')\n",
        "ax[1,2].set_title('Total Transaction Count (Last 12 months)')\n",
        "ax[1,3].set_title('Change in Transaction Count (Q4 over Q1)')\n",
        "ax[1,4].set_title('Average Card Utilization Ratio')"
      ],
      "execution_count": 25,
      "outputs": [
        {
          "output_type": "execute_result",
          "data": {
            "text/plain": [
              "Text(0.5, 1.0, 'Average Card Utilization Ratio')"
            ]
          },
          "metadata": {},
          "execution_count": 25
        },
        {
          "output_type": "display_data",
          "data": {
            "image/png": "[encoded data removed]",
            "text/plain": [
              "<Figure size 2160x720 with 10 Axes>"
            ]
          },
          "metadata": {
            "needs_background": "light"
          }
        }
      ]
    },
    {
      "cell_type": "code",
      "metadata": {
        "id": "_BsUSW490SXS"
      },
      "source": [
        ""
      ],
      "execution_count": 25,
      "outputs": []
    },
    {
      "cell_type": "code",
      "metadata": {
        "id": "aVMKTrghc8mZ",
        "colab": {
          "base_uri": "https://localhost:8080/",
          "height": 1000
        },
        "outputId": "e70a1a87-a839-490c-cb78-e72733993eec"
      },
      "source": [
        "NumericColumns=(data.select_dtypes(['int64','float64'])).columns\n",
        "cols=NumericColumns.drop('Attrition_Flag')\n",
        "fig,ax=plt.subplots( 5,3,figsize=(20,20) )\n",
        "i=0\n",
        "j=0\n",
        "for c in cols:\n",
        "  sns.boxplot(data=data,y=c,x='Attrition_Flag',ax=ax[i,j])\n",
        "  j=j+1\n",
        "  if j>2:\n",
        "    i=i+1\n",
        "    j=0\n",
        "\n",
        "\n"
      ],
      "execution_count": 26,
      "outputs": [
        {
          "output_type": "display_data",
          "data": {
            "image/png": "[encoded data removed]",
            "text/plain": [
              "<Figure size 1440x1440 with 15 Axes>"
            ]
          },
          "metadata": {
            "needs_background": "light"
          }
        }
      ]
    },
    {
      "cell_type": "code",
      "metadata": {
        "colab": {
          "base_uri": "https://localhost:8080/"
        },
        "id": "S1_8nzHVsD8Z",
        "outputId": "5bde9805-e633-4159-ee82-55f95f60832a"
      },
      "source": [
        "abs(data.corr()['Attrition_Flag']).sort_values(ascending=False)"
      ],
      "execution_count": 27,
      "outputs": [
        {
          "output_type": "execute_result",
          "data": {
            "text/plain": [
              "Attrition_Flag              1.000000\n",
              "Total_Trans_Ct              0.371403\n",
              "Total_Ct_Chng_Q4_Q1         0.290054\n",
              "Total_Revolving_Bal         0.263053\n",
              "Contacts_Count_12_mon       0.204491\n",
              "Avg_Utilization_Ratio       0.178410\n",
              "Total_Trans_Amt             0.168598\n",
              "Months_Inactive_12_mon      0.152449\n",
              "Total_Relationship_Count    0.150005\n",
              "Total_Amt_Chng_Q4_Q1        0.131063\n",
              "Credit_Limit                0.023873\n",
              "Dependent_count             0.018991\n",
              "Customer_Age                0.018203\n",
              "Months_on_book              0.013687\n",
              "Avg_Open_To_Buy             0.000285\n",
              "Name: Attrition_Flag, dtype: float64"
            ]
          },
          "metadata": {},
          "execution_count": 27
        }
      ]
    },
    {
      "cell_type": "code",
      "metadata": {
        "id": "YW674rMusR-w",
        "colab": {
          "base_uri": "https://localhost:8080/",
          "height": 369
        },
        "outputId": "bef9b68e-e2a1-4310-c867-ed9d66284047"
      },
      "source": [
        "#Chi-Squared Feature Selection for categorical data:\n",
        "\n",
        "X=data[CategoricalColumns]\n",
        "y=data['Attrition_Flag']\n",
        "X = X.astype(str)\n",
        "\n",
        "# split into train and test sets\n",
        "X_train, X_test, y_train, y_test = train_test_split(X, y, test_size=0.3, random_state=1)\n",
        "\n",
        "# prepare input data\n",
        "from sklearn.preprocessing import OrdinalEncoder\n",
        "def prepare_inputs(X_train, X_test):\n",
        "\toe = OrdinalEncoder()\n",
        "\toe.fit(X_train)\n",
        "\tX_train_enc = oe.transform(X_train)\n",
        "\tX_test_enc = oe.transform(X_test)\n",
        "\treturn X_train_enc, X_test_enc\n",
        "\n",
        "# prepare input data\n",
        "X_train_enc, X_test_enc = prepare_inputs(X_train, X_test)\n",
        "\n",
        "from sklearn.feature_selection import SelectKBest, chi2\n",
        "fs = SelectKBest(score_func=chi2, k='all')\n",
        "fs.fit(X_train_enc, y_train)\n",
        "X_train_fs = fs.transform(X_train_enc)\n",
        "X_test_fs = fs.transform(X_test_enc)\n",
        "\n",
        "# what are the feature importance scores\n",
        "for i in range(len(fs.scores_)):\n",
        "\tprint('Feature %d: %f' % (i, fs.scores_[i]))\n",
        "# plot the scores\n",
        "plt.bar([i for i in range(len(fs.scores_))], fs.scores_)\n",
        "plt.show()"
      ],
      "execution_count": 28,
      "outputs": [
        {
          "output_type": "stream",
          "name": "stdout",
          "text": [
            "Feature 0: 4.845584\n",
            "Feature 1: 0.408084\n",
            "Feature 2: 1.237220\n",
            "Feature 3: 0.658712\n",
            "Feature 4: 2.410346\n"
          ]
        },
        {
          "output_type": "display_data",
          "data": {
            "image/png": "[encoded data removed]",
            "text/plain": [
              "<Figure size 432x288 with 1 Axes>"
            ]
          },
          "metadata": {
            "needs_background": "light"
          }
        }
      ]
    },
    {
      "cell_type": "markdown",
      "metadata": {
        "id": "GjwR7nFft3PW"
      },
      "source": [
        "CategoricalColumns :'Gender', 'Education_Level', 'Marital_Status', 'Income_Category','Card_Category'\n",
        "\n",
        "Education_Level and Income_Category are least relevant features."
      ]
    },
    {
      "cell_type": "markdown",
      "metadata": {
        "id": "_f4YbLsgkZHV"
      },
      "source": [
        "## Model performance of Dummy Classsifier as our baseline:"
      ]
    },
    {
      "cell_type": "code",
      "metadata": {
        "colab": {
          "base_uri": "https://localhost:8080/"
        },
        "id": "uED3GS5vuhYv",
        "outputId": "59a0a00f-41ae-445a-afa9-2fd16e33aba2"
      },
      "source": [
        "# split into train and test sets\n",
        "X_train, X_test, y_train, y_test = train_test_split(X, y, test_size=0.2, random_state=1)\n",
        "dummy=DummyClassifier(strategy='most_frequent')\n",
        "dummy.fit(X_train,y_train)\n",
        "dummy.score(X_test,y_test)"
      ],
      "execution_count": 29,
      "outputs": [
        {
          "output_type": "execute_result",
          "data": {
            "text/plain": [
              "0.8366238894373149"
            ]
          },
          "metadata": {},
          "execution_count": 29
        }
      ]
    },
    {
      "cell_type": "markdown",
      "metadata": {
        "id": "2mqRbVtDkgKt"
      },
      "source": [
        "## Random Forest"
      ]
    },
    {
      "cell_type": "code",
      "metadata": {
        "colab": {
          "base_uri": "https://localhost:8080/"
        },
        "id": "A69wiUO5t8OJ",
        "outputId": "2e9f6e3d-74ca-4807-9391-2ab9863bf1c3"
      },
      "source": [
        "# Random Forest:\n",
        "df=pd.concat([data[NumericColumns],pd.get_dummies(data[CategoricalColumns],drop_first=True)],axis=1)\n",
        "X=df.drop(['Attrition_Flag'],axis=1)\n",
        "y=df['Attrition_Flag']\n",
        "# split into train and test sets\n",
        "X_train, X_test, y_train, y_test = train_test_split(X, y, test_size=0.2, random_state=1)\n",
        "RF= RandomForestClassifier(n_estimators=500,max_depth=4,random_state=1)\n",
        "RF.fit(X_train,y_train)\n",
        "RF.score(X_test,y_test)\n"
      ],
      "execution_count": 30,
      "outputs": [
        {
          "output_type": "execute_result",
          "data": {
            "text/plain": [
              "0.8943731490621916"
            ]
          },
          "metadata": {},
          "execution_count": 30
        }
      ]
    },
    {
      "cell_type": "markdown",
      "metadata": {
        "id": "oPx9pgBvv6F6"
      },
      "source": [
        "Not a very good result so we start to do more cleaning\n"
      ]
    },
    {
      "cell_type": "markdown",
      "metadata": {
        "id": "9ZdwKxjLkmyZ"
      },
      "source": [
        "## Cleaning Data"
      ]
    },
    {
      "cell_type": "code",
      "metadata": {
        "colab": {
          "base_uri": "https://localhost:8080/"
        },
        "id": "A4-V1EuIwRGC",
        "outputId": "8139aedf-ee51-4465-a600-e4b0cea160de"
      },
      "source": [
        "datana=data.replace('Unknown',np.nan)\n",
        "datana.isna().sum()"
      ],
      "execution_count": 31,
      "outputs": [
        {
          "output_type": "execute_result",
          "data": {
            "text/plain": [
              "Attrition_Flag                 0\n",
              "Customer_Age                   0\n",
              "Gender                         0\n",
              "Dependent_count                0\n",
              "Education_Level             1519\n",
              "Marital_Status               749\n",
              "Income_Category             1112\n",
              "Card_Category                  0\n",
              "Months_on_book                 0\n",
              "Total_Relationship_Count       0\n",
              "Months_Inactive_12_mon         0\n",
              "Contacts_Count_12_mon          0\n",
              "Credit_Limit                   0\n",
              "Total_Revolving_Bal            0\n",
              "Avg_Open_To_Buy                0\n",
              "Total_Amt_Chng_Q4_Q1           0\n",
              "Total_Trans_Amt                0\n",
              "Total_Trans_Ct                 0\n",
              "Total_Ct_Chng_Q4_Q1            0\n",
              "Avg_Utilization_Ratio          0\n",
              "dtype: int64"
            ]
          },
          "metadata": {},
          "execution_count": 31
        }
      ]
    },
    {
      "cell_type": "code",
      "metadata": {
        "id": "HVLC7oCOwzJE"
      },
      "source": [
        "# drop least relevant features\n",
        "dataset=datana.drop(columns=['Avg_Open_To_Buy','Education_Level','Income_Category'])"
      ],
      "execution_count": 81,
      "outputs": []
    },
    {
      "cell_type": "code",
      "metadata": {
        "colab": {
          "base_uri": "https://localhost:8080/"
        },
        "id": "-G8s5g5RvrL4",
        "outputId": "494735fa-4730-47b4-b654-3e21a59c513b"
      },
      "source": [
        "# missing values in Marital_Status  \n",
        "for i in range (0,len(dataset.Marital_Status)):\n",
        "  if pd.isnull(dataset.Marital_Status[i]):\n",
        "    dataset.Marital_Status[i]=dataset.Marital_Status[i-1]"
      ],
      "execution_count": 82,
      "outputs": [
        {
          "output_type": "stream",
          "name": "stderr",
          "text": [
            "/usr/local/lib/python3.7/dist-packages/ipykernel_launcher.py:4: SettingWithCopyWarning: \n",
            "A value is trying to be set on a copy of a slice from a DataFrame\n",
            "\n",
            "See the caveats in the documentation: https://pandas.pydata.org/pandas-docs/stable/user_guide/indexing.html#returning-a-view-versus-a-copy\n",
            "  after removing the cwd from sys.path.\n"
          ]
        }
      ]
    },
    {
      "cell_type": "code",
      "metadata": {
        "id": "413VufYer_qJ",
        "colab": {
          "base_uri": "https://localhost:8080/"
        },
        "outputId": "9e029845-31df-4915-d5ec-340ab2a48a09"
      },
      "source": [
        "dataset.isna().sum()"
      ],
      "execution_count": 83,
      "outputs": [
        {
          "output_type": "execute_result",
          "data": {
            "text/plain": [
              "Attrition_Flag              0\n",
              "Customer_Age                0\n",
              "Gender                      0\n",
              "Dependent_count             0\n",
              "Marital_Status              0\n",
              "Card_Category               0\n",
              "Months_on_book              0\n",
              "Total_Relationship_Count    0\n",
              "Months_Inactive_12_mon      0\n",
              "Contacts_Count_12_mon       0\n",
              "Credit_Limit                0\n",
              "Total_Revolving_Bal         0\n",
              "Total_Amt_Chng_Q4_Q1        0\n",
              "Total_Trans_Amt             0\n",
              "Total_Trans_Ct              0\n",
              "Total_Ct_Chng_Q4_Q1         0\n",
              "Avg_Utilization_Ratio       0\n",
              "dtype: int64"
            ]
          },
          "metadata": {},
          "execution_count": 83
        }
      ]
    },
    {
      "cell_type": "markdown",
      "metadata": {
        "id": "xB5v6Lvi5rwA"
      },
      "source": [
        "# SVM:"
      ]
    },
    {
      "cell_type": "code",
      "metadata": {
        "colab": {
          "base_uri": "https://localhost:8080/"
        },
        "id": "A4E9V3Mo4lYl",
        "outputId": "01de6e3c-d3c6-4629-8ce8-85091feb5a46"
      },
      "source": [
        "\n",
        "NumericColumns=(dataset.select_dtypes(['int64','float64'])).columns\n",
        "CategoricalColumns=(dataset.select_dtypes(['object'])).columns\n",
        "dataset=pd.concat([dataset[NumericColumns],pd.get_dummies(dataset[CategoricalColumns],drop_first=True)],axis=1)\n",
        "X=dataset.drop(['Attrition_Flag'],axis=1)\n",
        "y=dataset['Attrition_Flag']\n",
        "# split into train and test sets\n",
        "X_train, X_test, y_train, y_test = train_test_split(X, y, test_size=0.2, random_state=1)\n",
        "svc= SVC(random_state=1)\n",
        "svc.fit(X_train,y_train)\n",
        "svc.score(X_test,y_test)"
      ],
      "execution_count": 84,
      "outputs": [
        {
          "output_type": "execute_result",
          "data": {
            "text/plain": [
              "0.8366238894373149"
            ]
          },
          "metadata": {},
          "execution_count": 84
        }
      ]
    },
    {
      "cell_type": "markdown",
      "metadata": {
        "id": "Kr6Pa50u5wxB"
      },
      "source": [
        "# KNN"
      ]
    },
    {
      "cell_type": "code",
      "metadata": {
        "colab": {
          "base_uri": "https://localhost:8080/"
        },
        "id": "26owekCF49C4",
        "outputId": "b60bbf31-b3bb-4e68-e693-2d235e983359"
      },
      "source": [
        "\n",
        "knn= KNeighborsClassifier( n_neighbors=5)\n",
        "knn.fit(X_train,y_train)\n",
        "knn.score(X_test,y_test)"
      ],
      "execution_count": 86,
      "outputs": [
        {
          "output_type": "execute_result",
          "data": {
            "text/plain": [
              "0.8909180651530109"
            ]
          },
          "metadata": {},
          "execution_count": 86
        }
      ]
    },
    {
      "cell_type": "markdown",
      "metadata": {
        "id": "WdPnrVsm5zHa"
      },
      "source": [
        "# Random Forest:"
      ]
    },
    {
      "cell_type": "code",
      "metadata": {
        "colab": {
          "base_uri": "https://localhost:8080/"
        },
        "id": "Tet1WfM-nR0L",
        "outputId": "1cdc110d-8d99-4e8d-96ae-6dbbc4cbf512"
      },
      "source": [
        "# Random Forest:\n",
        "NumericColumns=(dataset.select_dtypes(['int64','float64'])).columns\n",
        "CategoricalColumns=(dataset.select_dtypes(['object'])).columns\n",
        "dataset=pd.concat([dataset[NumericColumns],pd.get_dummies(dataset[CategoricalColumns],drop_first=True)],axis=1)\n",
        "X=dataset.drop(['Attrition_Flag'],axis=1)\n",
        "y=dataset['Attrition_Flag']\n",
        "# split into train and test sets\n",
        "X_train, X_test, y_train, y_test = train_test_split(X, y, test_size=0.2, random_state=1)\n",
        "RF= RandomForestClassifier(n_estimators=500,max_depth=4,random_state=1)\n",
        "RF.fit(X_train,y_train)\n",
        "RF.score(X_test,y_test)"
      ],
      "execution_count": 38,
      "outputs": [
        {
          "output_type": "execute_result",
          "data": {
            "text/plain": [
              "0.9057255676209279"
            ]
          },
          "metadata": {},
          "execution_count": 38
        }
      ]
    },
    {
      "cell_type": "code",
      "metadata": {
        "colab": {
          "base_uri": "https://localhost:8080/",
          "height": 474
        },
        "id": "Zxmy_Taxq2cW",
        "outputId": "fe8214f9-ed03-4204-a9e9-5de6d2646573"
      },
      "source": [
        "cfm = confusion_matrix(y_test, RF.predict(X_test))\n",
        "\n",
        "TP = cfm[0][0]\n",
        "FN = cfm[0][1]\n",
        "FP = cfm[1][0]\n",
        "TN = cfm[1][1]\n",
        "\n",
        "fig, ax = plt.subplots(figsize=(13, 6))\n",
        "plt.title(\"Confusion Matrix\")\n",
        "plot_confusion_matrix(RF, X_test, y_test, ax=ax)\n",
        "plt.show()\n",
        "print(\"Accuracy :\", (TP+TN)/(TP+TN+FP+FN))\n",
        "print(\"Precision :\", (TP)/(TP+FP))\n",
        "print(\"Recall :\", (TP)/(TP+FN))\n"
      ],
      "execution_count": 57,
      "outputs": [
        {
          "output_type": "display_data",
          "data": {
            "image/png": "[encoded data removed]",
            "text/plain": [
              "<Figure size 936x432 with 2 Axes>"
            ]
          },
          "metadata": {
            "needs_background": "light"
          }
        },
        {
          "output_type": "stream",
          "name": "stdout",
          "text": [
            "Accuracy : 0.9057255676209279\n",
            "Precision : 0.9069264069264069\n",
            "Recall : 0.9887905604719764\n"
          ]
        }
      ]
    },
    {
      "cell_type": "markdown",
      "metadata": {
        "id": "MW_7NqgC54PB"
      },
      "source": [
        "# Gradient Boosting"
      ]
    },
    {
      "cell_type": "code",
      "metadata": {
        "colab": {
          "base_uri": "https://localhost:8080/",
          "height": 315
        },
        "id": "2goDRkUCwHQW",
        "outputId": "0578c2e5-a140-4e77-e015-ed02c06c62a7"
      },
      "source": [
        "# Gradient Boosting\n",
        "params={'n_estimators':500, 'max_depth':3,'loss':'exponential','random_state':1}\n",
        "clf=GradientBoostingClassifier(**params )\n",
        "clf.fit(X_train, y_train)\n",
        "\n",
        "predict_train = clf.predict(X_train)\n",
        "predict_test = clf.predict(X_test)\n",
        "cm = confusion_matrix(y_test, predict_test)\n",
        "feature_importance=clf.feature_importances_\n",
        "feature_importance=100.0*(feature_importance/feature_importance.max())\n",
        "sorted_idx=np.argsort(feature_importance)\n",
        "pos=np.arange(sorted_idx.shape[0])+0.5\n",
        "plt.subplot(1,2,2)\n",
        "plt.barh(pos,feature_importance[sorted_idx],align='center')\n",
        "plt.yticks(pos,X.columns[sorted_idx])\n",
        "plt.xlabel('Relative Importance')\n",
        "plt.title('Variable Importance')\n",
        "plt.show()"
      ],
      "execution_count": 70,
      "outputs": [
        {
          "output_type": "display_data",
          "data": {
            "image/png": "[encoded data removed]",
            "text/plain": [
              "<Figure size 432x288 with 1 Axes>"
            ]
          },
          "metadata": {
            "needs_background": "light"
          }
        }
      ]
    },
    {
      "cell_type": "code",
      "metadata": {
        "colab": {
          "base_uri": "https://localhost:8080/",
          "height": 474
        },
        "id": "AhtJsljzx0KX",
        "outputId": "63c6715d-5f3a-4690-fca1-a1140f68f0cf"
      },
      "source": [
        "TP = cm[0][0]\n",
        "FN = cm[0][1]\n",
        "FP = cm[1][0]\n",
        "TN = cm[1][1]\n",
        "\n",
        "fig, ax = plt.subplots(figsize=(13, 6))\n",
        "plt.title(\"Confusion Matrix\")\n",
        "plot_confusion_matrix(clf, X_test, y_test, ax=ax)\n",
        "plt.show()\n",
        "print(\"Accuracy :\", (TP+TN)/(TP+TN+FP+FN))\n",
        "print(\"Precision :\", (TP)/(TP+FP))\n",
        "print(\"Recall :\", (TP)/(TP+FN))\n"
      ],
      "execution_count": 71,
      "outputs": [
        {
          "output_type": "display_data",
          "data": {
            "image/png": "[encoded data removed]",
            "text/plain": [
              "<Figure size 936x432 with 2 Axes>"
            ]
          },
          "metadata": {
            "needs_background": "light"
          }
        },
        {
          "output_type": "stream",
          "name": "stdout",
          "text": [
            "Accuracy : 0.9664363277393879\n",
            "Precision : 0.976009362200117\n",
            "Recall : 0.984070796460177\n"
          ]
        }
      ]
    },
    {
      "cell_type": "code",
      "metadata": {
        "colab": {
          "base_uri": "https://localhost:8080/"
        },
        "id": "u7MP8niDyuqm",
        "outputId": "fa1618bd-70bf-4dad-a866-4178162be034"
      },
      "source": [
        "clf.score(X_test,y_test)"
      ],
      "execution_count": 72,
      "outputs": [
        {
          "output_type": "execute_result",
          "data": {
            "text/plain": [
              "0.9664363277393879"
            ]
          },
          "metadata": {},
          "execution_count": 72
        }
      ]
    },
    {
      "cell_type": "code",
      "metadata": {
        "colab": {
          "base_uri": "https://localhost:8080/"
        },
        "id": "W9VTbjzj2coX",
        "outputId": "d871e866-0943-4e81-8ab9-41024a461c41"
      },
      "source": [
        "# Applying Cross Validation\n",
        "acuracy=cross_val_score(clf,X_train,y_train,cv=10)\n",
        "acuracy"
      ],
      "execution_count": 75,
      "outputs": [
        {
          "output_type": "execute_result",
          "data": {
            "text/plain": [
              "array([0.96794081, 0.96419753, 0.96790123, 0.97901235, 0.98271605,\n",
              "       0.98395062, 0.96666667, 0.9691358 , 0.97037037, 0.97530864])"
            ]
          },
          "metadata": {},
          "execution_count": 75
        }
      ]
    },
    {
      "cell_type": "code",
      "metadata": {
        "colab": {
          "base_uri": "https://localhost:8080/"
        },
        "id": "gtErE6a53QSG",
        "outputId": "93bed68a-046c-4f8e-eacf-eb61962e70fa"
      },
      "source": [
        "acuracy.mean()"
      ],
      "execution_count": 78,
      "outputs": [
        {
          "output_type": "execute_result",
          "data": {
            "text/plain": [
              "0.9727200073069369"
            ]
          },
          "metadata": {},
          "execution_count": 78
        }
      ]
    },
    {
      "cell_type": "markdown",
      "metadata": {
        "id": "jthfH_nL6FX3"
      },
      "source": [
        "By gradient boosting model we can predict if a customer will leave or not by acuracy of 97%\n",
        " "
      ]
    },
    {
      "cell_type": "code",
      "metadata": {
        "id": "S6aZZ02A4FRl"
      },
      "source": [
        ""
      ],
      "execution_count": null,
      "outputs": []
    }
  ]
}